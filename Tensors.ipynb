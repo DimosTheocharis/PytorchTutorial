{
  "nbformat": 4,
  "nbformat_minor": 0,
  "metadata": {
    "colab": {
      "provenance": [],
      "authorship_tag": "ABX9TyMhE55B9yZRHhQMgG4gmWLH",
      "include_colab_link": true
    },
    "kernelspec": {
      "name": "python3",
      "display_name": "Python 3"
    },
    "language_info": {
      "name": "python"
    }
  },
  "cells": [
    {
      "cell_type": "markdown",
      "metadata": {
        "id": "view-in-github",
        "colab_type": "text"
      },
      "source": [
        "<a href=\"https://colab.research.google.com/github/DimosTheocharis/PytorchTutorial/blob/main/Tensors.ipynb\" target=\"_parent\"><img src=\"https://colab.research.google.com/assets/colab-badge.svg\" alt=\"Open In Colab\"/></a>"
      ]
    },
    {
      "cell_type": "code",
      "execution_count": 1,
      "metadata": {
        "id": "cEhUyWvcwEAj"
      },
      "outputs": [],
      "source": [
        "import torch\n",
        "import numpy as np"
      ]
    },
    {
      "cell_type": "code",
      "source": [
        "my_list = [1, 2, 3, 4, 5]\n",
        "print(my_list)"
      ],
      "metadata": {
        "colab": {
          "base_uri": "https://localhost:8080/"
        },
        "id": "-bMsF0o3wk7X",
        "outputId": "c17e85f8-6dfb-4327-e24c-b205a8f2ecf9"
      },
      "execution_count": 2,
      "outputs": [
        {
          "output_type": "stream",
          "name": "stdout",
          "text": [
            "[1, 2, 3, 4, 5]\n"
          ]
        }
      ]
    },
    {
      "cell_type": "markdown",
      "source": [
        "# **Numpy Arrays**"
      ],
      "metadata": {
        "id": "kYZNdRYow15h"
      }
    },
    {
      "cell_type": "code",
      "source": [
        "np1 = np.random.rand(3, 4)\n",
        "print(np1)\n",
        "print(np1.dtype)"
      ],
      "metadata": {
        "colab": {
          "base_uri": "https://localhost:8080/"
        },
        "id": "3sNmRpJNw_W9",
        "outputId": "ae43a75a-894c-4239-bd7f-359e99284a02"
      },
      "execution_count": 11,
      "outputs": [
        {
          "output_type": "stream",
          "name": "stdout",
          "text": [
            "[[0.30392879 0.1510592  0.502371   0.22989363]\n",
            " [0.2155446  0.35142433 0.04600435 0.89426922]\n",
            " [0.01676102 0.77775557 0.43699223 0.63601028]]\n",
            "float64\n"
          ]
        }
      ]
    },
    {
      "cell_type": "markdown",
      "source": [
        "# **Tensors**"
      ],
      "metadata": {
        "id": "2hO1-wXiz8J0"
      }
    },
    {
      "cell_type": "code",
      "source": [
        "tensor1 = torch.randn(3, 4)\n",
        "print(tensor1)\n",
        "print(tensor1.ndim)"
      ],
      "metadata": {
        "colab": {
          "base_uri": "https://localhost:8080/"
        },
        "id": "qOIWwJ3J0D8b",
        "outputId": "e9994d05-a793-4a50-c53e-da0bf87c5ce5"
      },
      "execution_count": 17,
      "outputs": [
        {
          "output_type": "stream",
          "name": "stdout",
          "text": [
            "tensor([[-0.2374,  0.6458,  0.2226, -0.7882],\n",
            "        [-1.3323,  0.0214,  0.1291, -0.0799],\n",
            "        [ 0.3249, -0.5242, -1.8356, -1.1622]])\n",
            "2\n"
          ]
        }
      ]
    },
    {
      "cell_type": "code",
      "source": [
        "tensor2 = torch.zeros(2, 3, 4)\n",
        "print(tensor2)\n",
        "print(tensor2.dtype)\n",
        "print(tensor2.ndim)"
      ],
      "metadata": {
        "colab": {
          "base_uri": "https://localhost:8080/"
        },
        "id": "BwBiGYfY0iqW",
        "outputId": "a3ee2413-1d3b-445d-fbeb-8a54ffe05b79"
      },
      "execution_count": 18,
      "outputs": [
        {
          "output_type": "stream",
          "name": "stdout",
          "text": [
            "tensor([[[0., 0., 0., 0.],\n",
            "         [0., 0., 0., 0.],\n",
            "         [0., 0., 0., 0.]],\n",
            "\n",
            "        [[0., 0., 0., 0.],\n",
            "         [0., 0., 0., 0.],\n",
            "         [0., 0., 0., 0.]]])\n",
            "torch.float32\n",
            "3\n"
          ]
        }
      ]
    },
    {
      "cell_type": "code",
      "source": [
        "# Create tensor from numpy array\n",
        "tensor3 = torch.tensor(np1)\n",
        "print(tensor3)\n",
        "print(tensor3.shape)"
      ],
      "metadata": {
        "colab": {
          "base_uri": "https://localhost:8080/"
        },
        "id": "e2B4ucxP0ziU",
        "outputId": "3e6ae262-9b06-4376-fd84-8d9250a0d7bc"
      },
      "execution_count": 14,
      "outputs": [
        {
          "output_type": "stream",
          "name": "stdout",
          "text": [
            "tensor([[0.3039, 0.1511, 0.5024, 0.2299],\n",
            "        [0.2155, 0.3514, 0.0460, 0.8943],\n",
            "        [0.0168, 0.7778, 0.4370, 0.6360]], dtype=torch.float64)\n",
            "torch.Size([3, 4])\n"
          ]
        }
      ]
    }
  ]
}